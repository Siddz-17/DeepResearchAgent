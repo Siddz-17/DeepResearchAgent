{
 "cells": [
  {
   "cell_type": "code",
   "execution_count": 2,
   "metadata": {},
   "outputs": [],
   "source": [
    "from agno.agent import Agent\n",
    "from agno.models.groq import Groq\n",
    "\n",
    "import os\n",
    "from dotenv import load_dotenv\n",
    "load_dotenv()\n",
    "\n",
    "os.environ[\"GROQ_API_KEY\"] = os.getenv(\"GROQ_API_KEY\")\n",
    "\n",
    "def queryTake(query):\n",
    "    des = \"\"\"This agent systematically breaks down the steps of the query recieved and provides a structured response which contains the \n",
    "    steps to be followed if One has to research on the topic.\n",
    "    Do not include any sub steps after specifying the main steps.\n",
    "    State only the steps, i.e, the main points to be followed.\n",
    "    Do not start with statements like: \"Here's a structured approach to researching \"Aloo Fry\":\".\n",
    "    Dive straight to the points.┃\n",
    "    \"\"\"\n",
    "    PlannerAgent = Agent(\n",
    "        name = \"PlannerAgent\",\n",
    "        model = Groq(id=\"gemma2-9b-it\"),\n",
    "        description = des,\n",
    "        markdown = False\n",
    "    )\n",
    "    \n",
    "    return PlannerAgent.print_response(query,stream=True)\n"
   ]
  },
  {
   "cell_type": "code",
   "execution_count": 3,
   "metadata": {},
   "outputs": [
    {
     "data": {
      "application/vnd.jupyter.widget-view+json": {
       "model_id": "4a2e39c4343643e8aabd4a277f67bbf4",
       "version_major": 2,
       "version_minor": 0
      },
      "text/plain": [
       "Output()"
      ]
     },
     "metadata": {},
     "output_type": "display_data"
    },
    {
     "data": {
      "text/html": [
       "<pre style=\"white-space:pre;overflow-x:auto;line-height:normal;font-family:Menlo,'DejaVu Sans Mono',consolas,'Courier New',monospace\"></pre>\n"
      ],
      "text/plain": []
     },
     "metadata": {},
     "output_type": "display_data"
    }
   ],
   "source": [
    "from agno.agent import Agent\n",
    "from agno.models.groq import Groq\n",
    "from agno.tools.duckduckgo import DuckDuckGoTools\n",
    "\n",
    "agent = Agent(\n",
    "    model = Groq(id=\"qwen-2.5-32b\"),\n",
    "    description='You are assistant to help me with my research',\n",
    "    tools=[DuckDuckGoTools()],\n",
    "    markdown = True\n",
    "    )\n",
    "agent.print_response(\"Whats happening in France?\")"
   ]
  },
  {
   "cell_type": "code",
   "execution_count": null,
   "metadata": {},
   "outputs": [],
   "source": []
  }
 ],
 "metadata": {
  "kernelspec": {
   "display_name": "Python 3",
   "language": "python",
   "name": "python3"
  },
  "language_info": {
   "codemirror_mode": {
    "name": "ipython",
    "version": 3
   },
   "file_extension": ".py",
   "mimetype": "text/x-python",
   "name": "python",
   "nbconvert_exporter": "python",
   "pygments_lexer": "ipython3",
   "version": "3.10.11"
  }
 },
 "nbformat": 4,
 "nbformat_minor": 2
}
